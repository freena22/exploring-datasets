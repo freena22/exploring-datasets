{
 "cells": [
  {
   "cell_type": "markdown",
   "metadata": {
    "collapsed": true
   },
   "source": [
    "## Movie Score Dataset\n",
    "- a data set containing scores for all movies that have substantive user and critic reviews on IMDB, Rotten Tomatoes, Metacritic, and Fandango.\n",
    "- FILM - Film name\n",
    "- RottenTomatoes - Average critic score on Rotten Tomatoes\n",
    "- RottenTomatoes_User - Average user score on Rotten Tomatoes\n",
    "- RT_norm - Average critic score on Rotten Tomatoes (normalized to a 0 to 5-point system)\n",
    "- RT_user-norm - Average user score on Rotten Tomatoes (normalized to a 0 to 5-point system)\n",
    "- Metacritic - Average critic score on Metacritic\n",
    "- Metacritic_User - Average user score on Metacritic\n"
   ]
  },
  {
   "cell_type": "code",
   "execution_count": 9,
   "metadata": {
    "collapsed": true
   },
   "outputs": [],
   "source": [
    "import pandas as pd\n",
    "import numpy as np\n",
    "fandango = pd.read_csv('fandango_score_comparison.csv')\n"
   ]
  },
  {
   "cell_type": "code",
   "execution_count": 10,
   "metadata": {},
   "outputs": [
    {
     "name": "stdout",
     "output_type": "stream",
     "text": [
      "<class 'pandas.core.frame.DataFrame'>\n",
      "RangeIndex: 146 entries, 0 to 145\n",
      "Data columns (total 22 columns):\n",
      "FILM                          146 non-null object\n",
      "RottenTomatoes                146 non-null int64\n",
      "RottenTomatoes_User           146 non-null int64\n",
      "Metacritic                    146 non-null int64\n",
      "Metacritic_User               146 non-null float64\n",
      "IMDB                          146 non-null float64\n",
      "Fandango_Stars                146 non-null float64\n",
      "Fandango_Ratingvalue          146 non-null float64\n",
      "RT_norm                       146 non-null float64\n",
      "RT_user_norm                  146 non-null float64\n",
      "Metacritic_norm               146 non-null float64\n",
      "Metacritic_user_nom           146 non-null float64\n",
      "IMDB_norm                     146 non-null float64\n",
      "RT_norm_round                 146 non-null float64\n",
      "RT_user_norm_round            146 non-null float64\n",
      "Metacritic_norm_round         146 non-null float64\n",
      "Metacritic_user_norm_round    146 non-null float64\n",
      "IMDB_norm_round               146 non-null float64\n",
      "Metacritic_user_vote_count    146 non-null int64\n",
      "IMDB_user_vote_count          146 non-null int64\n",
      "Fandango_votes                146 non-null int64\n",
      "Fandango_Difference           146 non-null float64\n",
      "dtypes: float64(15), int64(6), object(1)\n",
      "memory usage: 25.2+ KB\n",
      "None\n"
     ]
    }
   ],
   "source": [
    "print fandango.info()"
   ]
  },
  {
   "cell_type": "code",
   "execution_count": 15,
   "metadata": {},
   "outputs": [
    {
     "name": "stdout",
     "output_type": "stream",
     "text": [
      "<class 'pandas.core.frame.DataFrame'>\n",
      "                             FILM  RottenTomatoes  RottenTomatoes_User  \\\n",
      "0  Avengers: Age of Ultron (2015)              74                   86   \n",
      "1               Cinderella (2015)              85                   80   \n",
      "\n",
      "   Metacritic  Metacritic_User  IMDB  Fandango_Stars  Fandango_Ratingvalue  \\\n",
      "0          66              7.1   7.8             5.0                   4.5   \n",
      "1          67              7.5   7.1             5.0                   4.5   \n",
      "\n",
      "   RT_norm  RT_user_norm         ...           IMDB_norm  RT_norm_round  \\\n",
      "0     3.70           4.3         ...                3.90            3.5   \n",
      "1     4.25           4.0         ...                3.55            4.5   \n",
      "\n",
      "   RT_user_norm_round  Metacritic_norm_round  Metacritic_user_norm_round  \\\n",
      "0                 4.5                    3.5                         3.5   \n",
      "1                 4.0                    3.5                         4.0   \n",
      "\n",
      "   IMDB_norm_round  Metacritic_user_vote_count  IMDB_user_vote_count  \\\n",
      "0              4.0                        1330                271107   \n",
      "1              3.5                         249                 65709   \n",
      "\n",
      "   Fandango_votes  Fandango_Difference  \n",
      "0           14846                  0.5  \n",
      "1           12640                  0.5  \n",
      "\n",
      "[2 rows x 22 columns]\n"
     ]
    }
   ],
   "source": [
    "#print fandango.head(2) # output is the turple\n",
    "print type(fandango)\n",
    "print fandango.head(2)"
   ]
  },
  {
   "cell_type": "code",
   "execution_count": 26,
   "metadata": {},
   "outputs": [
    {
     "name": "stdout",
     "output_type": "stream",
     "text": [
      "Avengers: Age of Ultron (2015)    74\n",
      "Cinderella (2015)                 85\n",
      "Ant-Man (2015)                    80\n",
      "Do You Believe? (2015)            18\n",
      "Hot Tub Time Machine 2 (2015)     14\n",
      "dtype: int64\n"
     ]
    }
   ],
   "source": [
    "# Custom Indexes and Series\n",
    "series_film = fandango['FILM']      # extract the columns\n",
    "series_rt = fandango['RottenTomatoes']\n",
    "\n",
    "from pandas import Series\n",
    "film_names = series_film.values\n",
    "rt_scores = series_rt.values\n",
    "series_custom = Series(rt_scores,index=film_names)\n",
    "\n",
    "print series_custom.head()"
   ]
  },
  {
   "cell_type": "code",
   "execution_count": 28,
   "metadata": {},
   "outputs": [
    {
     "name": "stdout",
     "output_type": "stream",
     "text": [
      "Cinderella (2015)                        85\n",
      "Top Five (2014)                          86\n",
      "Love & Mercy (2015)                      89\n",
      "Far From The Madding Crowd (2015)        84\n",
      "Black Sea (2015)                         82\n",
      "Trainwreck (2015)                        85\n",
      "Still Alice (2015)                       88\n",
      "When Marnie Was There (2015)             89\n",
      "Furious 7 (2015)                         81\n",
      "Me and Earl and The Dying Girl (2015)    81\n",
      "Dope (2015)                              87\n",
      "The Overnight (2015)                     82\n",
      "While We're Young (2015)                 83\n",
      "Clouds of Sils Maria (2015)              89\n",
      "Testament of Youth (2015)                81\n",
      "The Wolfpack (2015)                      84\n",
      "The Stanford Prison Experiment (2015)    84\n",
      "Mr. Holmes (2015)                        87\n",
      "Kumiko, The Treasure Hunter (2015)       87\n",
      "dtype: int64\n"
     ]
    }
   ],
   "source": [
    "# Filtering through Boolean value\n",
    "criteria1 = series_custom > 80\n",
    "criteria2 = series_custom < 90\n",
    "both_criteria = series_custom[criteria1 & criteria2]\n",
    "print both_criteria"
   ]
  },
  {
   "cell_type": "code",
   "execution_count": 29,
   "metadata": {},
   "outputs": [
    {
     "data": {
      "text/plain": [
       "RangeIndex(start=0, stop=146, step=1)"
      ]
     },
     "execution_count": 29,
     "metadata": {},
     "output_type": "execute_result"
    }
   ],
   "source": [
    "# Dataframe share a row index across columns\n",
    "# check the index of DataFrame\n",
    "fandango.index"
   ]
  },
  {
   "cell_type": "code",
   "execution_count": 31,
   "metadata": {
    "collapsed": true
   },
   "outputs": [],
   "source": [
    "# Using Custom Indexed\n",
    "# inplace: if set ot True, set the index for the current,live dataframe, instead of returning a new dataframe\n",
    "# frop: id set to False, keep the column specified as the index, instead of dropping it"
   ]
  },
  {
   "cell_type": "code",
   "execution_count": 32,
   "metadata": {},
   "outputs": [
    {
     "name": "stdout",
     "output_type": "stream",
     "text": [
      "Index([u'Avengers: Age of Ultron (2015)', u'Cinderella (2015)',\n",
      "       u'Ant-Man (2015)', u'Do You Believe? (2015)',\n",
      "       u'Hot Tub Time Machine 2 (2015)', u'The Water Diviner (2015)',\n",
      "       u'Irrational Man (2015)', u'Top Five (2014)',\n",
      "       u'Shaun the Sheep Movie (2015)', u'Love & Mercy (2015)',\n",
      "       ...\n",
      "       u'The Woman In Black 2 Angel of Death (2015)', u'Danny Collins (2015)',\n",
      "       u'Spare Parts (2015)', u'Serena (2015)', u'Inside Out (2015)',\n",
      "       u'Mr. Holmes (2015)', u''71 (2015)', u'Two Days, One Night (2014)',\n",
      "       u'Gett: The Trial of Viviane Amsalem (2015)',\n",
      "       u'Kumiko, The Treasure Hunter (2015)'],\n",
      "      dtype='object', name=u'FILM', length=146)\n"
     ]
    }
   ],
   "source": [
    "fandango_films = fandango.set_index('FILM',drop=False)\n",
    "print fandango_films.index"
   ]
  },
  {
   "cell_type": "code",
   "execution_count": null,
   "metadata": {
    "collapsed": true
   },
   "outputs": [],
   "source": []
  }
 ],
 "metadata": {
  "kernelspec": {
   "display_name": "Python 2",
   "language": "python",
   "name": "python2"
  },
  "language_info": {
   "codemirror_mode": {
    "name": "ipython",
    "version": 2
   },
   "file_extension": ".py",
   "mimetype": "text/x-python",
   "name": "python",
   "nbconvert_exporter": "python",
   "pygments_lexer": "ipython2",
   "version": "2.7.13"
  }
 },
 "nbformat": 4,
 "nbformat_minor": 2
}
