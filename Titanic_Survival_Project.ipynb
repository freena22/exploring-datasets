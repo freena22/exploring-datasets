{
 "cells": [
  {
   "cell_type": "markdown",
   "metadata": {},
   "source": [
    "## Titanic Survival Project\n",
    "\n",
    "- clean and analyze data on passenger survival from the Titanic. \n",
    "\n",
    "- pclass -- The passenger's cabin class from 1 to 3 where 1 was the highest class\n",
    "- survived -- 1 if the passenger survived, and 0 if they did not.\n",
    "- sex -- The passenger's gender\n",
    "- age -- The passenger's age\n",
    "- fare -- The amount the passenger paid for their ticket\n",
    "- embarked -- Either C, Q, or S, to indicate which port the passenger boarded the ship from.\n",
    "- Many of the columns, such as age and sex, have missing values.\n"
   ]
  },
  {
   "cell_type": "code",
   "execution_count": 1,
   "metadata": {
    "collapsed": true
   },
   "outputs": [],
   "source": [
    "# read the file\n",
    "import pandas as pd\n",
    "titanic_survival = pd.read_csv('titanic_survival.csv')"
   ]
  },
  {
   "cell_type": "code",
   "execution_count": null,
   "metadata": {
    "collapsed": true
   },
   "outputs": [],
   "source": [
    "# find the missing data"
   ]
  }
 ],
 "metadata": {
  "kernelspec": {
   "display_name": "Python 2",
   "language": "python",
   "name": "python2"
  },
  "language_info": {
   "codemirror_mode": {
    "name": "ipython",
    "version": 2
   },
   "file_extension": ".py",
   "mimetype": "text/x-python",
   "name": "python",
   "nbconvert_exporter": "python",
   "pygments_lexer": "ipython2",
   "version": "2.7.13"
  }
 },
 "nbformat": 4,
 "nbformat_minor": 2
}
