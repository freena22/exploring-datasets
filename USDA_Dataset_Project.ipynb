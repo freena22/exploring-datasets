{
 "cells": [
  {
   "cell_type": "markdown",
   "metadata": {},
   "source": [
    "## USDA Food Info Dataset\n",
    "- Exploring a dataset from the United States Department of Agriculture (USDA). \n",
    "- This dataset contains nutritional information on the most common foods Americans consume.\n",
    "- Each column in the dataset shows a different attribute of the foods and each row describes a different food item."
   ]
  },
  {
   "cell_type": "markdown",
   "metadata": {},
   "source": [
    "### Columns in the dataset:\n",
    "* NDB_No - unique id of the food.\n",
    "* Shrt_Desc - name of the food.\n",
    "* Water_(g) - water content in grams.\n",
    "* Energ_Kcal - energy measured in kilo-calories.\n",
    "* Protein_(g) - protein measured in grams.\n",
    "* Cholestrl_(mg) - cholesterol in milligrams."
   ]
  },
  {
   "cell_type": "code",
   "execution_count": 14,
   "metadata": {},
   "outputs": [
    {
     "data": {
      "text/html": [
       "<div>\n",
       "<table border=\"1\" class=\"dataframe\">\n",
       "  <thead>\n",
       "    <tr style=\"text-align: right;\">\n",
       "      <th></th>\n",
       "      <th>NDB_No</th>\n",
       "      <th>Shrt_Desc</th>\n",
       "      <th>Water_(g)</th>\n",
       "      <th>Energ_Kcal</th>\n",
       "      <th>Protein_(g)</th>\n",
       "      <th>Lipid_Tot_(g)</th>\n",
       "      <th>Ash_(g)</th>\n",
       "      <th>Carbohydrt_(g)</th>\n",
       "      <th>Fiber_TD_(g)</th>\n",
       "      <th>Sugar_Tot_(g)</th>\n",
       "      <th>...</th>\n",
       "      <th>Vit_A_IU</th>\n",
       "      <th>Vit_A_RAE</th>\n",
       "      <th>Vit_E_(mg)</th>\n",
       "      <th>Vit_D_mcg</th>\n",
       "      <th>Vit_D_IU</th>\n",
       "      <th>Vit_K_(mcg)</th>\n",
       "      <th>FA_Sat_(g)</th>\n",
       "      <th>FA_Mono_(g)</th>\n",
       "      <th>FA_Poly_(g)</th>\n",
       "      <th>Cholestrl_(mg)</th>\n",
       "    </tr>\n",
       "  </thead>\n",
       "  <tbody>\n",
       "    <tr>\n",
       "      <th>0</th>\n",
       "      <td>1001</td>\n",
       "      <td>BUTTER WITH SALT</td>\n",
       "      <td>15.87</td>\n",
       "      <td>717</td>\n",
       "      <td>0.85</td>\n",
       "      <td>81.11</td>\n",
       "      <td>2.11</td>\n",
       "      <td>0.06</td>\n",
       "      <td>0.0</td>\n",
       "      <td>0.06</td>\n",
       "      <td>...</td>\n",
       "      <td>2499.0</td>\n",
       "      <td>684.0</td>\n",
       "      <td>2.32</td>\n",
       "      <td>1.5</td>\n",
       "      <td>60.0</td>\n",
       "      <td>7.0</td>\n",
       "      <td>51.368</td>\n",
       "      <td>21.021</td>\n",
       "      <td>3.043</td>\n",
       "      <td>215.0</td>\n",
       "    </tr>\n",
       "    <tr>\n",
       "      <th>1</th>\n",
       "      <td>1002</td>\n",
       "      <td>BUTTER WHIPPED WITH SALT</td>\n",
       "      <td>15.87</td>\n",
       "      <td>717</td>\n",
       "      <td>0.85</td>\n",
       "      <td>81.11</td>\n",
       "      <td>2.11</td>\n",
       "      <td>0.06</td>\n",
       "      <td>0.0</td>\n",
       "      <td>0.06</td>\n",
       "      <td>...</td>\n",
       "      <td>2499.0</td>\n",
       "      <td>684.0</td>\n",
       "      <td>2.32</td>\n",
       "      <td>1.5</td>\n",
       "      <td>60.0</td>\n",
       "      <td>7.0</td>\n",
       "      <td>50.489</td>\n",
       "      <td>23.426</td>\n",
       "      <td>3.012</td>\n",
       "      <td>219.0</td>\n",
       "    </tr>\n",
       "  </tbody>\n",
       "</table>\n",
       "<p>2 rows × 36 columns</p>\n",
       "</div>"
      ],
      "text/plain": [
       "   NDB_No                 Shrt_Desc  Water_(g)  Energ_Kcal  Protein_(g)  \\\n",
       "0    1001          BUTTER WITH SALT      15.87         717         0.85   \n",
       "1    1002  BUTTER WHIPPED WITH SALT      15.87         717         0.85   \n",
       "\n",
       "   Lipid_Tot_(g)  Ash_(g)  Carbohydrt_(g)  Fiber_TD_(g)  Sugar_Tot_(g)  \\\n",
       "0          81.11     2.11            0.06           0.0           0.06   \n",
       "1          81.11     2.11            0.06           0.0           0.06   \n",
       "\n",
       "        ...        Vit_A_IU  Vit_A_RAE  Vit_E_(mg)  Vit_D_mcg  Vit_D_IU  \\\n",
       "0       ...          2499.0      684.0        2.32        1.5      60.0   \n",
       "1       ...          2499.0      684.0        2.32        1.5      60.0   \n",
       "\n",
       "   Vit_K_(mcg)  FA_Sat_(g)  FA_Mono_(g)  FA_Poly_(g)  Cholestrl_(mg)  \n",
       "0          7.0      51.368       21.021        3.043           215.0  \n",
       "1          7.0      50.489       23.426        3.012           219.0  \n",
       "\n",
       "[2 rows x 36 columns]"
      ]
     },
     "execution_count": 14,
     "metadata": {},
     "output_type": "execute_result"
    }
   ],
   "source": [
    "# read the dataset\n",
    "import pandas as pd\n",
    "food_info = pd.read_csv('food_info.csv')\n",
    "food_info.head(2)"
   ]
  },
  {
   "cell_type": "code",
   "execution_count": 15,
   "metadata": {},
   "outputs": [
    {
     "data": {
      "text/plain": [
       "(8618, 36)"
      ]
     },
     "execution_count": 15,
     "metadata": {},
     "output_type": "execute_result"
    }
   ],
   "source": [
    "food_info.shape"
   ]
  },
  {
   "cell_type": "code",
   "execution_count": 16,
   "metadata": {},
   "outputs": [
    {
     "name": "stdout",
     "output_type": "stream",
     "text": [
      "['NDB_No', 'Shrt_Desc', 'Water_(g)', 'Energ_Kcal', 'Protein_(g)', 'Lipid_Tot_(g)', 'Ash_(g)', 'Carbohydrt_(g)', 'Fiber_TD_(g)', 'Sugar_Tot_(g)', 'Calcium_(mg)', 'Iron_(mg)', 'Magnesium_(mg)', 'Phosphorus_(mg)', 'Potassium_(mg)', 'Sodium_(mg)', 'Zinc_(mg)', 'Copper_(mg)', 'Manganese_(mg)', 'Selenium_(mcg)', 'Vit_C_(mg)', 'Thiamin_(mg)', 'Riboflavin_(mg)', 'Niacin_(mg)', 'Vit_B6_(mg)', 'Vit_B12_(mcg)', 'Vit_A_IU', 'Vit_A_RAE', 'Vit_E_(mg)', 'Vit_D_mcg', 'Vit_D_IU', 'Vit_K_(mcg)', 'FA_Sat_(g)', 'FA_Mono_(g)', 'FA_Poly_(g)', 'Cholestrl_(mg)']\n"
     ]
    }
   ],
   "source": [
    "col_names = food_info.columns.tolist()  # return a list contaning only the column names\n",
    "print col_names"
   ]
  },
  {
   "cell_type": "code",
   "execution_count": 17,
   "metadata": {},
   "outputs": [
    {
     "name": "stdout",
     "output_type": "stream",
     "text": [
      "   Zinc_(mg)  Copper_(mg)\n",
      "0       0.09        0.000\n",
      "1       0.05        0.016\n"
     ]
    }
   ],
   "source": [
    "zinc_copper = food_info[['Zinc_(mg)', 'Copper_(mg)']]  # double[[]]\n",
    "print zinc_copper.head(2)"
   ]
  },
  {
   "cell_type": "code",
   "execution_count": 18,
   "metadata": {},
   "outputs": [
    {
     "name": "stdout",
     "output_type": "stream",
     "text": [
      "0    11378.79\n",
      "1    11378.79\n",
      "2      210.24\n",
      "3    14970.73\n",
      "4    15251.81\n",
      "dtype: float64\n"
     ]
    }
   ],
   "source": [
    "# Performing Math With Multiple Columns\n",
    "water_energy = food_info[\"Water_(g)\"] * food_info[\"Energ_Kcal\"]\n",
    "print water_energy[0:5]"
   ]
  },
  {
   "cell_type": "code",
   "execution_count": 19,
   "metadata": {
    "collapsed": true
   },
   "outputs": [],
   "source": [
    "# Sorting A DataFrame By A Column"
   ]
  },
  {
   "cell_type": "code",
   "execution_count": 20,
   "metadata": {
    "collapsed": true
   },
   "outputs": [],
   "source": [
    "# Sorts the DataFrame in-place, rather than returning a new DataFrame.\n",
    "food_info.sort_values(\"Sodium_(mg)\", inplace=True)\n",
    "\n",
    "# Sorts by descending order, rather than ascending.\n",
    "food_info.sort_values(\"Sodium_(mg)\", inplace=True, ascending=False)"
   ]
  },
  {
   "cell_type": "code",
   "execution_count": null,
   "metadata": {
    "collapsed": true
   },
   "outputs": [],
   "source": []
  }
 ],
 "metadata": {
  "kernelspec": {
   "display_name": "Python 2",
   "language": "python",
   "name": "python2"
  },
  "language_info": {
   "codemirror_mode": {
    "name": "ipython",
    "version": 2
   },
   "file_extension": ".py",
   "mimetype": "text/x-python",
   "name": "python",
   "nbconvert_exporter": "python",
   "pygments_lexer": "ipython2",
   "version": "2.7.13"
  }
 },
 "nbformat": 4,
 "nbformat_minor": 2
}
