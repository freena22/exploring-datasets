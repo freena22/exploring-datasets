{
 "cells": [
  {
   "cell_type": "markdown",
   "metadata": {},
   "source": [
    "## OpenFlights Geographic Dataset\n",
    "\n",
    "- OpenFlights Airports Database contains over 10,000 airports, train stations and ferry terminals spanning the globe\n",
    "\n",
    "- explore the fundamentals of geographic coordinate systems and how to work with the basemap library to plot geographic data points on maps\n",
    "\n",
    "- airlines.csv - data on each airline.\n",
    "(country - where the airline is headquartered / active - if the airline is still active)\n",
    "- airports.csv - data on each airport.\n",
    "(name - name of the airport/city - city the airport is located/country - country the airport is located/code - unique airport code/latitude - latitude value/longitude - longitude value)\n",
    "- routes.csv - data on each flight route.\n",
    "(airline - airline for the route/source - starting city for the route/dest - destination city for the route)"
   ]
  },
  {
   "cell_type": "code",
   "execution_count": 1,
   "metadata": {
    "collapsed": true
   },
   "outputs": [],
   "source": [
    "import pandas as pd\n",
    "import numpy as np\n",
    "import matplotlib.pyplot as plt\n",
    "import seaborn as sns"
   ]
  },
  {
   "cell_type": "code",
   "execution_count": null,
   "metadata": {
    "collapsed": true
   },
   "outputs": [],
   "source": []
  }
 ],
 "metadata": {
  "kernelspec": {
   "display_name": "Python 3",
   "language": "python",
   "name": "python3"
  },
  "language_info": {
   "codemirror_mode": {
    "name": "ipython",
    "version": 3
   },
   "file_extension": ".py",
   "mimetype": "text/x-python",
   "name": "python",
   "nbconvert_exporter": "python",
   "pygments_lexer": "ipython3",
   "version": "3.6.0"
  }
 },
 "nbformat": 4,
 "nbformat_minor": 2
}
