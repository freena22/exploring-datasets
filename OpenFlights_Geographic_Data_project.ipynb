{
 "cells": [
  {
   "cell_type": "markdown",
   "metadata": {},
   "source": [
    "## OpenFlights Geographic Dataset\n",
    "\n",
    "- OpenFlights Airports Database contains over 10,000 airports, train stations and ferry terminals spanning the globe\n",
    "\n",
    "- explore the fundamentals of geographic coordinate systems and how to work with the basemap library to plot geographic data points on maps\n",
    "\n",
    "- airlines.csv - data on each airline.\n",
    "(country - where the airline is headquartered / active - if the airline is still active)\n",
    "- airports.csv - data on each airport.\n",
    "(name - name of the airport/city - city the airport is located/country - country the airport is located/code - unique airport code/latitude - latitude value/longitude - longitude value)\n",
    "- routes.csv - data on each flight route.\n",
    "(airline - airline for the route/source - starting city for the route/dest - destination city for the route)"
   ]
  },
  {
   "cell_type": "code",
   "execution_count": 1,
   "metadata": {
    "collapsed": true
   },
   "outputs": [],
   "source": [
    "import pandas as pd\n",
    "import numpy as np\n",
    "import matplotlib.pyplot as plt\n",
    "import seaborn as sns"
   ]
  },
  {
   "cell_type": "code",
   "execution_count": 5,
   "metadata": {},
   "outputs": [
    {
     "name": "stdout",
     "output_type": "stream",
     "text": [
      "   id            name alias iata icao callsign country active\n",
      "0   1  Private flight    \\N    -  NaN      NaN     NaN      Y\n",
      "----------------\n",
      "   id    name    city           country code  icao  latitude   longitude  \\\n",
      "0   1  Goroka  Goroka  Papua New Guinea  GKA  AYGA -6.081689  145.391881   \n",
      "\n",
      "   altitude  offset dst              timezone  \n",
      "0      5282    10.0   U  Pacific/Port_Moresby  \n",
      "----------------\n",
      "  airline airline_id source source_id dest dest_id codeshare  stops equipment\n",
      "0      2B        410    AER      2965  KZN    2990       NaN      0       CR2\n"
     ]
    }
   ],
   "source": [
    "airlines = pd.read_csv('airlines.csv')\n",
    "airports = pd.read_csv('airports.csv')\n",
    "routes = pd.read_csv('routes.csv')\n",
    "print(airlines.head(1))\n",
    "print('----------------')\n",
    "print(airports.head(1))\n",
    "print('----------------')\n",
    "print(routes.head(1))"
   ]
  },
  {
   "cell_type": "markdown",
   "metadata": {},
   "source": [
    "- A map projection transforms points on a sphere to a two-dimensional plane.\n",
    "- Use the Mercator projection, because it is commonly used by popular mapping software.\n",
    "- Install basemap"
   ]
  },
  {
   "cell_type": "code",
   "execution_count": 6,
   "metadata": {
    "collapsed": true
   },
   "outputs": [],
   "source": [
    "from mpl_toolkits.basemap import Basemap"
   ]
  },
  {
   "cell_type": "markdown",
   "metadata": {},
   "source": [
    "### Workflow with two-dimensional maps:\n",
    "\n",
    "- Create a new basemap instance with the specific map projection we want to use and how much of the map we want included.\n",
    "- Convert spherical coordinates to Cartesian coordinates using the basemap instance.\n",
    "- Use the matplotlib and basemap methods to customize the map.\n",
    "- Display the map."
   ]
  },
  {
   "cell_type": "code",
   "execution_count": 9,
   "metadata": {
    "collapsed": true
   },
   "outputs": [],
   "source": [
    "# Step 1: Create a new basemap instance"
   ]
  },
  {
   "cell_type": "code",
   "execution_count": 7,
   "metadata": {
    "collapsed": true
   },
   "outputs": [],
   "source": [
    "import matplotlib.pyplot as plt\n",
    "from mpl_toolkits.basemap import Basemap\n",
    "m = Basemap(projection='merc',llcrnrlat=-80,urcrnrlat=80,llcrnrlon=-180,urcrnrlon=180)\n",
    "# projection: \"merc\"\n",
    "# llcrnrlat: -80 degrees (latitude of lower left hand corner of the desired map domain)\n",
    "# urcrnrlat: 80 degrees (latitude of upper right hand corner of the desired map domain)\n",
    "# llcrnrlon: -180 degrees (longitude of lower left hand corner of the desired map domain)\n",
    "# urcrnrlon: 180 degrees (longitude of upper right hand corner of the desired map domain)"
   ]
  },
  {
   "cell_type": "code",
   "execution_count": 8,
   "metadata": {
    "collapsed": true
   },
   "outputs": [],
   "source": [
    "# Step 2: Converting From Spherical To Cartesian Coordinates"
   ]
  },
  {
   "cell_type": "code",
   "execution_count": 12,
   "metadata": {},
   "outputs": [],
   "source": [
    "m = Basemap(projection='merc', llcrnrlat=-80, urcrnrlat=80, llcrnrlon=-180, urcrnrlon=180)\n",
    "longitudes = airports[\"longitude\"].tolist()  # use tolist()\n",
    "latitudes = airports[\"latitude\"].tolist()\n",
    "x, y = m(longitudes, latitudes)\n"
   ]
  },
  {
   "cell_type": "code",
   "execution_count": 13,
   "metadata": {
    "collapsed": true
   },
   "outputs": [],
   "source": [
    "# Step 3: Generating A Scatter Plot"
   ]
  },
  {
   "cell_type": "code",
   "execution_count": null,
   "metadata": {
    "collapsed": true
   },
   "outputs": [],
   "source": [
    "m.scatter(x,y,s=1)\n",
    "# show the global map scatter map, but cannot show here due to environment conflict\n",
    "# see the picture in Dataquest part 5"
   ]
  },
  {
   "cell_type": "code",
   "execution_count": null,
   "metadata": {
    "collapsed": true
   },
   "outputs": [],
   "source": [
    "m = Basemap(projection='merc', llcrnrlat=-80, urcrnrlat=80, llcrnrlon=-180, urcrnrlon=180)\n",
    "longitudes = airports[\"longitude\"].tolist()\n",
    "latitudes = airports[\"latitude\"].tolist()\n",
    "x, y = m(longitudes, latitudes)\n",
    "m.scatter(x, y, s=1)\n",
    "m.drawcoastlines()  # outlines of thee coasts for each continent \n",
    "plt.show()\n",
    "# show the nice picture "
   ]
  },
  {
   "cell_type": "code",
   "execution_count": 27,
   "metadata": {},
   "outputs": [
    {
     "name": "stdout",
     "output_type": "stream",
     "text": [
      "<class 'pandas.core.frame.DataFrame'>\n",
      "RangeIndex: 67428 entries, 0 to 67427\n",
      "Data columns (total 8 columns):\n",
      "airline      67428 non-null object\n",
      "source       67428 non-null object\n",
      "dest         67428 non-null object\n",
      "equipment    67410 non-null object\n",
      "start_lon    67428 non-null float64\n",
      "end_lon      67428 non-null float64\n",
      "start_lat    67428 non-null float64\n",
      "end_lat      67428 non-null float64\n",
      "dtypes: float64(4), object(4)\n",
      "memory usage: 4.1+ MB\n"
     ]
    },
    {
     "data": {
      "text/html": [
       "<div>\n",
       "<table border=\"1\" class=\"dataframe\">\n",
       "  <thead>\n",
       "    <tr style=\"text-align: right;\">\n",
       "      <th></th>\n",
       "      <th>airline</th>\n",
       "      <th>source</th>\n",
       "      <th>dest</th>\n",
       "      <th>equipment</th>\n",
       "      <th>start_lon</th>\n",
       "      <th>end_lon</th>\n",
       "      <th>start_lat</th>\n",
       "      <th>end_lat</th>\n",
       "    </tr>\n",
       "  </thead>\n",
       "  <tbody>\n",
       "    <tr>\n",
       "      <th>0</th>\n",
       "      <td>2B</td>\n",
       "      <td>AER</td>\n",
       "      <td>KZN</td>\n",
       "      <td>CR2</td>\n",
       "      <td>39.956589</td>\n",
       "      <td>49.278728</td>\n",
       "      <td>43.449928</td>\n",
       "      <td>55.606186</td>\n",
       "    </tr>\n",
       "    <tr>\n",
       "      <th>1</th>\n",
       "      <td>2B</td>\n",
       "      <td>ASF</td>\n",
       "      <td>KZN</td>\n",
       "      <td>CR2</td>\n",
       "      <td>48.006278</td>\n",
       "      <td>49.278728</td>\n",
       "      <td>46.283333</td>\n",
       "      <td>55.606186</td>\n",
       "    </tr>\n",
       "    <tr>\n",
       "      <th>2</th>\n",
       "      <td>2B</td>\n",
       "      <td>ASF</td>\n",
       "      <td>MRV</td>\n",
       "      <td>CR2</td>\n",
       "      <td>48.006278</td>\n",
       "      <td>43.081889</td>\n",
       "      <td>46.283333</td>\n",
       "      <td>44.225072</td>\n",
       "    </tr>\n",
       "    <tr>\n",
       "      <th>3</th>\n",
       "      <td>2B</td>\n",
       "      <td>CEK</td>\n",
       "      <td>KZN</td>\n",
       "      <td>CR2</td>\n",
       "      <td>61.503333</td>\n",
       "      <td>49.278728</td>\n",
       "      <td>55.305836</td>\n",
       "      <td>55.606186</td>\n",
       "    </tr>\n",
       "    <tr>\n",
       "      <th>4</th>\n",
       "      <td>2B</td>\n",
       "      <td>CEK</td>\n",
       "      <td>OVB</td>\n",
       "      <td>CR2</td>\n",
       "      <td>61.503333</td>\n",
       "      <td>82.650656</td>\n",
       "      <td>55.305836</td>\n",
       "      <td>55.012622</td>\n",
       "    </tr>\n",
       "  </tbody>\n",
       "</table>\n",
       "</div>"
      ],
      "text/plain": [
       "  airline source dest equipment  start_lon    end_lon  start_lat    end_lat\n",
       "0      2B    AER  KZN       CR2  39.956589  49.278728  43.449928  55.606186\n",
       "1      2B    ASF  KZN       CR2  48.006278  49.278728  46.283333  55.606186\n",
       "2      2B    ASF  MRV       CR2  48.006278  43.081889  46.283333  44.225072\n",
       "3      2B    CEK  KZN       CR2  61.503333  49.278728  55.305836  55.606186\n",
       "4      2B    CEK  OVB       CR2  61.503333  82.650656  55.305836  55.012622"
      ]
     },
     "execution_count": 27,
     "metadata": {},
     "output_type": "execute_result"
    }
   ],
   "source": [
    "geo_routes = pd.read_csv('geo_routes.csv')\n",
    "geo_routes.info()\n",
    "geo_routes.head()"
   ]
  },
  {
   "cell_type": "code",
   "execution_count": 28,
   "metadata": {
    "collapsed": true
   },
   "outputs": [],
   "source": [
    "# Displaying Great Circles\n",
    "# basemap.drawgreatcircle() method to display a great circle between 2 points."
   ]
  },
  {
   "cell_type": "markdown",
   "metadata": {},
   "source": [
    "### See more info about visulization:\n",
    "- Plotly: 3D Scatter Plots in Python\n",
    "- Bokeh: a Python interactive visualization library "
   ]
  }
 ],
 "metadata": {
  "kernelspec": {
   "display_name": "Python 3",
   "language": "python",
   "name": "python3"
  },
  "language_info": {
   "codemirror_mode": {
    "name": "ipython",
    "version": 3
   },
   "file_extension": ".py",
   "mimetype": "text/x-python",
   "name": "python",
   "nbconvert_exporter": "python",
   "pygments_lexer": "ipython3",
   "version": "3.6.0"
  }
 },
 "nbformat": 4,
 "nbformat_minor": 2
}
